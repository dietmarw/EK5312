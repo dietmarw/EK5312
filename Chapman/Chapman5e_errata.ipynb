{
 "cells": [
  {
   "cell_type": "markdown",
   "metadata": {},
   "source": [
    "# Errata \"Electric Machinery Fundamentals\", 5th Edition"
   ]
  },
  {
   "cell_type": "markdown",
   "metadata": {},
   "source": [
    "## Chapter 1"
   ]
  },
  {
   "cell_type": "markdown",
   "metadata": {},
   "source": [
    "### Example 1-2, page 17, eq: 1-32:\n",
    "\n",
    "\n",
    "***Solution***\n",
    "The magnetic circuit corresponding to this core is shown in Figure 1-8b.\n",
    "\n",
    "(a) The reluctance of the core is\n",
    "\n",
    "\\begin{align*}\n",
    "\\mathcal{R}_c&= \\frac{l_c}{\\mu A_c} = \\frac{l_c}{\\mu_r\\mu_0 A_c} \\qquad\\qquad\\qquad\\qquad\\text{(1-32)}\\\\\n",
    "             &= \\frac{0.4\\,m}{(4000)(4\\pi\\times 10^{-7}\\,H/m)(0.00\\color{red}{1}2\\,m^2)}\\\\\n",
    "             &= 66,300\\, A\\cdot\\text{turns}/Wb\n",
    "\\end{align*}"
   ]
  },
  {
   "cell_type": "markdown",
   "metadata": {},
   "source": [
    "## Chapter 2"
   ]
  },
  {
   "cell_type": "markdown",
   "metadata": {},
   "source": [
    "### Section 2.11, page 128, eq: 2-97 and 2-98:\n",
    "\n",
    "$\\ldots$the maximum power in transformer 1 is\n",
    " \n",
    "\\begin{align*}\n",
    "P_1 &= V_\\phi I_\\phi \\cos{(150^\\circ-120^\\circ)}\\\\\n",
    "             &= V_\\phi I_\\phi \\cos{30^\\circ} \\qquad\\qquad\\qquad\\qquad\\text{(2-97)}\\\\\n",
    "             &= \\frac{\\sqrt{3}}{2}V_\\phi I_\\phi\n",
    "\\end{align*}\n",
    "\n",
    "For transformer 2, the voltage is at an angle of $30^\\circ$ and the current is at an angle of $60^\\circ$, so its maximum power is\n",
    "\n",
    "\\begin{align*}\n",
    "P_2 &= V_\\phi I_\\phi \\cos{(30^\\circ-60^\\circ)}\\\\\n",
    "             &= V_\\phi I_\\phi \\cos{(-30^\\circ)} \\qquad\\qquad\\qquad\\qquad\\text{(2-98)}\\\\\n",
    "             &= \\frac{\\sqrt{3}}{2}V_\\phi I_\\phi\n",
    "\\end{align*}\n"
   ]
  },
  {
   "cell_type": "markdown",
   "metadata": {},
   "source": [
    "## Chapter 3"
   ]
  },
  {
   "cell_type": "markdown",
   "metadata": {},
   "source": [
    "### Section 3.2, page 162ff:\n",
    "\n",
    "The resulting net magnetic field (for $\\omega t = 90^\\circ$) is \n",
    "\n",
    "\\begin{align*}\n",
    "        \\mathbf{B}_\\text{net} &= \\mathbf{B}_{aa'} + \\mathbf{B}_{bb'} + \\mathbf{B}_{cc'}\\\\\n",
    "        &= B_M \\angle0^\\circ + \\left(-\\frac12 B_M \\right) \\angle120^\\circ + \\left(-\\frac12 B_M \\right) \\angle240^\\circ\\\\\n",
    "        &=B_M \\left[ \\mathbf{\\hat{x}} - \\frac12 (\\cos 120^\\circ \\mathbf{\\hat{x}} + \\sin 120^\\circ\\mathbf{\\hat{y}})\n",
    "                                      - \\frac12 (\\cos 240^\\circ \\mathbf{\\hat{x}} + \\sin 240^\\circ\\mathbf{\\hat{y}}) \\right]\\\\\n",
    "        &= B_M\\left(\\mathbf{\\hat{x}} \\color{red}{+ \\frac14\\mathbf{\\hat{x}} - \\frac{\\sqrt{3}}{4}\\mathbf{\\hat{y}}\n",
    "                                     + \\frac14\\mathbf{\\hat{x}} + \\frac{\\sqrt{3}}{4}\\mathbf{\\hat{y}}}\n",
    "              \\right)\\\\\n",
    "        &= \\frac32 B_M \\mathbf{\\color{red}{\\hat{x}}}\\\\\n",
    "        &= 1.5 \\cdot B_M \\angle \\color{red}{0^{\\circ}}\n",
    "      \\end{align*}"
   ]
  },
  {
   "cell_type": "markdown",
   "metadata": {},
   "source": [
    "## Chapter 4"
   ]
  },
  {
   "cell_type": "markdown",
   "metadata": {},
   "source": [
    "### Section 4.10, top of page 251\n",
    "\n",
    "The forumula for $I_{ss}$ should read:\n",
    "\n",
    "$$\n",
    "I_{ss} = \\frac{E_A}{\\color{red}{X_s}} = \\frac{1.0}{1.0} = 1.00\n",
    "$$"
   ]
  },
  {
   "cell_type": "markdown",
   "metadata": {},
   "source": [
    "## Chapter 5"
   ]
  },
  {
   "cell_type": "markdown",
   "metadata": {},
   "source": [
    "## Chapter 6"
   ]
  },
  {
   "cell_type": "markdown",
   "metadata": {},
   "source": [
    "### Section 6.8, page 359:\n",
    "\n",
    "*In Figure 6-35 the switch-numbers are wrong. Correctly it should look like:*\n",
    "\n",
    "![Figure 6-35](figs/FigC_6-35.jpg)\n",
    "\n",
    "**FIGURE 6-35**<br>\n",
    "A $Y-\\Delta$ indcution motor starter"
   ]
  }
 ],
 "metadata": {
  "kernelspec": {
   "display_name": "Python 3",
   "language": "python",
   "name": "python3"
  },
  "language_info": {
   "codemirror_mode": {
    "name": "ipython",
    "version": 3
   },
   "file_extension": ".py",
   "mimetype": "text/x-python",
   "name": "python",
   "nbconvert_exporter": "python",
   "pygments_lexer": "ipython3",
   "version": "3.10.4"
  }
 },
 "nbformat": 4,
 "nbformat_minor": 1
}
